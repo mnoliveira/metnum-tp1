{
 "cells": [
  {
   "cell_type": "code",
   "execution_count": 1,
   "metadata": {},
   "outputs": [
    {
     "ename": "NameError",
     "evalue": "name 'DataFrame' is not defined",
     "output_type": "error",
     "traceback": [
      "\u001b[0;31m---------------------------------------------------------------------------\u001b[0m",
      "\u001b[0;31mNameError\u001b[0m                                 Traceback (most recent call last)",
      "\u001b[0;32m<ipython-input-1-fec43ba46616>\u001b[0m in \u001b[0;36m<module>\u001b[0;34m\u001b[0m\n\u001b[1;32m      3\u001b[0m \u001b[0mtests\u001b[0m \u001b[0;34m=\u001b[0m \u001b[0;34m[\u001b[0m\u001b[0;34m\"test_completo_10_1\"\u001b[0m\u001b[0;34m,\u001b[0m \u001b[0;34m\"test_completo_100_4\"\u001b[0m\u001b[0;34m,\u001b[0m \u001b[0;34m\"test_completo_100_8\"\u001b[0m\u001b[0;34m,\u001b[0m \u001b[0;34m\"test_completo_1000_2\"\u001b[0m\u001b[0;34m,\u001b[0m \u001b[0;34m\"test_completo_1000_8\"\u001b[0m\u001b[0;34m]\u001b[0m\u001b[0;34m\u001b[0m\u001b[0;34m\u001b[0m\u001b[0m\n\u001b[1;32m      4\u001b[0m \u001b[0;34m\u001b[0m\u001b[0m\n\u001b[0;32m----> 5\u001b[0;31m df = DataFrame({\n\u001b[0m\u001b[1;32m      6\u001b[0m     \u001b[0;34m'colley'\u001b[0m\u001b[0;34m:\u001b[0m \u001b[0;34m[\u001b[0m\u001b[0;34m]\u001b[0m\u001b[0;34m,\u001b[0m\u001b[0;34m\u001b[0m\u001b[0;34m\u001b[0m\u001b[0m\n\u001b[1;32m      7\u001b[0m     \u001b[0;34m'wp'\u001b[0m\u001b[0;34m:\u001b[0m \u001b[0;34m[\u001b[0m\u001b[0;34m]\u001b[0m\u001b[0;34m\u001b[0m\u001b[0;34m\u001b[0m\u001b[0m\n",
      "\u001b[0;31mNameError\u001b[0m: name 'DataFrame' is not defined"
     ]
    }
   ],
   "source": [
    "from general import *\n",
    "\n",
    "tests = [\"test_completo_10_1\", \"test_completo_100_4\", \"test_completo_100_8\", \"test_completo_1000_2\", \"test_completo_1000_8\"]\n",
    "\n",
    "df = pd.DataFrame({\n",
    "    'colley': [],\n",
    "    'wp': []\n",
    "})\n",
    "\n",
    "for test in tests:\n",
    "    df.colley.append(tprun(\"0\", f\"../tests/{test}.in\", f\"../tests/{test}.out\"))\n",
    "    df.wp.append(tprun(\"1\", f\"../tests/{test}.in\", f\"../tests/{test}.out\"))\n",
    "    expected = getRankings(f\"../tests/{test}.expected\")\n",
    "    df.colley -= expected\n",
    "    df.wp -= expected\n",
    "\n"
   ]
  }
 ],
 "metadata": {
  "kernelspec": {
   "display_name": "Python 3",
   "language": "python",
   "name": "python3"
  },
  "language_info": {
   "codemirror_mode": {
    "name": "ipython",
    "version": 3
   },
   "file_extension": ".py",
   "mimetype": "text/x-python",
   "name": "python",
   "nbconvert_exporter": "python",
   "pygments_lexer": "ipython3",
   "version": "3.7.5"
  }
 },
 "nbformat": 4,
 "nbformat_minor": 4
}
