{
 "cells": [
  {
   "cell_type": "markdown",
   "metadata": {},
   "source": [
    "## Ver análisis cuantitativo\n",
    "Se divide la visualización del cálculo ya que los tests completos pueden tardar unos minutos"
   ]
  },
  {
   "cell_type": "code",
   "execution_count": 6,
   "metadata": {},
   "outputs": [
    {
     "data": {
      "text/html": [
       "<div>\n",
       "<style scoped>\n",
       "    .dataframe tbody tr th:only-of-type {\n",
       "        vertical-align: middle;\n",
       "    }\n",
       "\n",
       "    .dataframe tbody tr th {\n",
       "        vertical-align: top;\n",
       "    }\n",
       "\n",
       "    .dataframe thead th {\n",
       "        text-align: right;\n",
       "    }\n",
       "</style>\n",
       "<table border=\"1\" class=\"dataframe\">\n",
       "  <thead>\n",
       "    <tr style=\"text-align: right;\">\n",
       "      <th></th>\n",
       "      <th></th>\n",
       "      <th>diferencia</th>\n",
       "    </tr>\n",
       "    <tr>\n",
       "      <th>test</th>\n",
       "      <th>metodo</th>\n",
       "      <th></th>\n",
       "    </tr>\n",
       "  </thead>\n",
       "  <tbody>\n",
       "    <tr>\n",
       "      <th rowspan=\"2\" valign=\"top\">test_completo_1000_2</th>\n",
       "      <th>colley</th>\n",
       "      <td>1.493297e-05</td>\n",
       "    </tr>\n",
       "    <tr>\n",
       "      <th>wp</th>\n",
       "      <td>1.096297e-05</td>\n",
       "    </tr>\n",
       "    <tr>\n",
       "      <th rowspan=\"2\" valign=\"top\">test_completo_1000_8</th>\n",
       "      <th>colley</th>\n",
       "      <td>-6.738384e-05</td>\n",
       "    </tr>\n",
       "    <tr>\n",
       "      <th>wp</th>\n",
       "      <td>-4.621284e-05</td>\n",
       "    </tr>\n",
       "    <tr>\n",
       "      <th rowspan=\"2\" valign=\"top\">test_completo_100_4</th>\n",
       "      <th>colley</th>\n",
       "      <td>8.263856e-07</td>\n",
       "    </tr>\n",
       "    <tr>\n",
       "      <th>wp</th>\n",
       "      <td>-6.620236e-04</td>\n",
       "    </tr>\n",
       "    <tr>\n",
       "      <th rowspan=\"2\" valign=\"top\">test_completo_100_8</th>\n",
       "      <th>colley</th>\n",
       "      <td>2.497624e-06</td>\n",
       "    </tr>\n",
       "    <tr>\n",
       "      <th>wp</th>\n",
       "      <td>2.876476e-04</td>\n",
       "    </tr>\n",
       "    <tr>\n",
       "      <th rowspan=\"2\" valign=\"top\">test_completo_10_1</th>\n",
       "      <th>colley</th>\n",
       "      <td>-3.431998e-09</td>\n",
       "    </tr>\n",
       "    <tr>\n",
       "      <th>wp</th>\n",
       "      <td>-1.034320e-07</td>\n",
       "    </tr>\n",
       "  </tbody>\n",
       "</table>\n",
       "</div>"
      ],
      "text/plain": [
       "                               diferencia\n",
       "test                 metodo              \n",
       "test_completo_1000_2 colley  1.493297e-05\n",
       "                     wp      1.096297e-05\n",
       "test_completo_1000_8 colley -6.738384e-05\n",
       "                     wp     -4.621284e-05\n",
       "test_completo_100_4  colley  8.263856e-07\n",
       "                     wp     -6.620236e-04\n",
       "test_completo_100_8  colley  2.497624e-06\n",
       "                     wp      2.876476e-04\n",
       "test_completo_10_1   colley -3.431998e-09\n",
       "                     wp     -1.034320e-07"
      ]
     },
     "execution_count": 6,
     "metadata": {},
     "output_type": "execute_result"
    }
   ],
   "source": [
    "from general import *\n",
    "with open(\"analisisCuantitativo.pkl\", \"rb\") as f:\n",
    "    df = pickle.load(f)\n",
    "df.groupby(by=[\"test\", \"metodo\"]).mean()"
   ]
  },
  {
   "cell_type": "markdown",
   "metadata": {},
   "source": [
    "## Análisis de los resultados de Memphis en la temporada NBA 2016\n"
   ]
  },
  {
   "cell_type": "code",
   "execution_count": 3,
   "metadata": {},
   "outputs": [
    {
     "data": {
      "text/html": [
       "<div>\n",
       "<style scoped>\n",
       "    .dataframe tbody tr th:only-of-type {\n",
       "        vertical-align: middle;\n",
       "    }\n",
       "\n",
       "    .dataframe tbody tr th {\n",
       "        vertical-align: top;\n",
       "    }\n",
       "\n",
       "    .dataframe thead th {\n",
       "        text-align: right;\n",
       "    }\n",
       "</style>\n",
       "<table border=\"1\" class=\"dataframe\">\n",
       "  <thead>\n",
       "    <tr style=\"text-align: right;\">\n",
       "      <th></th>\n",
       "      <th>fecha</th>\n",
       "      <th>iEquipo</th>\n",
       "      <th>iGoles</th>\n",
       "      <th>jEquipo</th>\n",
       "      <th>jGoles</th>\n",
       "    </tr>\n",
       "  </thead>\n",
       "  <tbody>\n",
       "  </tbody>\n",
       "</table>\n",
       "</div>"
      ],
      "text/plain": [
       "Empty DataFrame\n",
       "Columns: [fecha, iEquipo, iGoles, jEquipo, jGoles]\n",
       "Index: []"
      ]
     },
     "execution_count": 3,
     "metadata": {},
     "output_type": "execute_result"
    }
   ],
   "source": [
    "from general import *\n",
    "df=pd.DataFrame({}, columns=[\"fecha\", \"iEquipo\", \"iGoles\", \"jEquipo\", \"jGoles\"])\n",
    "i=0\n",
    "with open(\"nba_2016.in\",\"r\") as f:\n",
    "    for line in f:\n",
    "        if(i > 1):\n",
    "            [fecha, iEquipo, iGoles, jEquipo, jGoles] = [int(x) for x in line.rstrip('\\n').split(' ')]\n",
    "            df.loc[i-1] = [fecha, iEquipo, iGoles, jEquipo, jGoles]\n",
    "        \n",
    "        i+=1\n",
    "\n",
    "\n",
    "        \n",
    "partidosMemphisVisitante = df['jEquipo'] == 15\n",
    "partidosMemphisLocal = df['iEquipo'] == 15\n",
    "\n",
    "# particularmente para Memphis resultó ser que no tiene partidos Ganados siendo visitante. \n",
    "# Siempre gana siendo local.\n",
    "memphisLocal = df[partidosMemphisVisitante]\n",
    "memphisLocal = memphisLocal[memphisLocal['jGoles'] > memphisLocal['iGoles']]\n",
    "memphisLocal\n"
   ]
  },
  {
   "cell_type": "markdown",
   "metadata": {},
   "source": [
    "Cálculo de promedio de puntos por los que ganó Memphis"
   ]
  },
  {
   "cell_type": "code",
   "execution_count": 7,
   "metadata": {},
   "outputs": [
    {
     "data": {
      "text/plain": [
       "8.692307692307692"
      ]
     },
     "execution_count": 7,
     "metadata": {},
     "output_type": "execute_result"
    }
   ],
   "source": [
    "memphisVisitante = pd.DataFrame.copy(df[partidosMemphisLocal])\n",
    "memphisVisitante.reset_index(inplace=True)\n",
    "memphisVisitante['dif'] = memphisVisitante['iGoles'] - memphisVisitante['jGoles']\n",
    "memphisVisitante = memphisVisitante[memphisVisitante['dif'] > 0]\n",
    "memphisVisitante['dif'].mean()"
   ]
  },
  {
   "cell_type": "markdown",
   "metadata": {},
   "source": [
    "Cálculo de promedio de puntos por los que perdió Memphis"
   ]
  },
  {
   "cell_type": "code",
   "execution_count": 9,
   "metadata": {},
   "outputs": [
    {
     "data": {
      "text/plain": [
       "-15.535714285714286"
      ]
     },
     "execution_count": 9,
     "metadata": {},
     "output_type": "execute_result"
    }
   ],
   "source": [
    "memphisVisitante = pd.DataFrame.copy(df[partidosMemphisVisitante])\n",
    "memphisVisitante.reset_index(inplace=True)\n",
    "memphisVisitante['dif'] = memphisVisitante['jGoles'] - memphisVisitante['iGoles']\n",
    "memphisVisitante = memphisVisitante[memphisVisitante['dif'] < 0]\n",
    "memphisVisitante['dif'].mean()"
   ]
  }
 ],
 "metadata": {
  "kernelspec": {
   "display_name": "Python 3",
   "language": "python",
   "name": "python3"
  },
  "language_info": {
   "codemirror_mode": {
    "name": "ipython",
    "version": 3
   },
   "file_extension": ".py",
   "mimetype": "text/x-python",
   "name": "python",
   "nbconvert_exporter": "python",
   "pygments_lexer": "ipython3",
   "version": "3.7.5"
  }
 },
 "nbformat": 4,
 "nbformat_minor": 4
}
