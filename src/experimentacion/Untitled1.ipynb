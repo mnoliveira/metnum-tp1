{
 "cells": [
  {
   "cell_type": "code",
   "execution_count": null,
   "metadata": {},
   "outputs": [],
   "source": [
    "from general import *\n",
    "\n",
    "tests = [\"test_completo_10_1\", \"test_completo_100_4\", \"test_completo_100_8\", \"test_completo_1000_2\", \"test_completo_1000_8\"]\n",
    "print(tests)\n",
    "\n",
    "df = pd.DataFrame({\n",
    "    'colley': [],\n",
    "    'wp': []\n",
    "})\n",
    "\n",
    "for test in tests:\n",
    "    df.colley.append(tprun(\"0\", f\"../tests/{test}.in\", f\"../tests/{test}.out\"))\n",
    "    df.wp.append(tprun(\"1\", f\"../tests/{test}.in\", f\"../tests/{test}.out\"))\n",
    "    expected = getRankings(f\"../tests/{test}.expected\")\n",
    "    df.colley -= expected\n",
    "    df.wp -= expected\n",
    "\n",
    "print(df)\n",
    "\n"
   ]
  },
  {
   "cell_type": "code",
   "execution_count": null,
   "metadata": {},
   "outputs": [],
   "source": []
  }
 ],
 "metadata": {
  "kernelspec": {
   "display_name": "Python 3",
   "language": "python",
   "name": "python3"
  },
  "language_info": {
   "codemirror_mode": {
    "name": "ipython",
    "version": 3
   },
   "file_extension": ".py",
   "mimetype": "text/x-python",
   "name": "python",
   "nbconvert_exporter": "python",
   "pygments_lexer": "ipython3",
   "version": "3.7.5"
  }
 },
 "nbformat": 4,
 "nbformat_minor": 4
}
