{
 "cells": [
  {
   "cell_type": "code",
   "execution_count": 32,
   "metadata": {},
   "outputs": [
    {
     "data": {
      "text/plain": [
       "Int64Index([24, 26,  4, 23, 14, 28, 16, 10, 18, 30, 15, 22, 25,  2, 13, 21,  6,\n",
       "             5,  7,  9, 29, 11,  1,  3, 19,  8, 31, 27, 20, 12, 17],\n",
       "           dtype='int64')"
      ]
     },
     "execution_count": 32,
     "metadata": {},
     "output_type": "execute_result"
    }
   ],
   "source": [
    "from general import *\n",
    "\n",
    "# colleySinHacker = tprun(\"0\", \"nba_2016.in\", \"nba_2016.out\")\n",
    "# col\n",
    "\n",
    "def obtenerOrden(df, metodo): \n",
    "    df.sort_values(metodo, inplace=True)\n",
    "    df.reset_index(inplace=True)\n",
    "    df.columns = [\"ordenOriginal\", metodo, \"nombres\"]\n",
    "    df.sort_values(\"ordenOriginal\", inplace=True)\n",
    "\n",
    "nombres = getNombres(\"nombres_nba_equipoHacker\")\n",
    "\n",
    "colley = tprun(\"0\", \"nba_2016_equipoHacker.in\", \"nba_2016_equipoHacker.out\")\n",
    "colleyDf = pd.DataFrame(data={'colley': colley, 'nombres': (x for x in range(len(nombres)))})\n",
    "obtenerOrden(colleyDf, \"colley\")\n",
    "\n",
    "wp = tprun(\"1\", \"nba_2016_equipoHacker.in\", \"nba_2016_equipoHacker.out\")\n",
    "wpDf = pd.DataFrame(data={'wp': wp, 'nombres': (x for x in range(len(nombres)))})\n",
    "obtenerOrden(wpDf, \"wp\")\n",
    "\n",
    "goles = tprun(\"2\", \"nba_2016_equipoHacker.in\", \"nba_2016_equipoHacker.out\")\n",
    "golesDf = pd.DataFrame(data={'goles': goles, 'nombres': (x for x in range(len(nombres)))})\n",
    "obtenerOrden(golesDf, \"goles\")\n",
    "\n",
    "golesDf"
   ]
  }
 ],
 "metadata": {
  "kernelspec": {
   "display_name": "Python 3",
   "language": "python",
   "name": "python3"
  },
  "language_info": {
   "codemirror_mode": {
    "name": "ipython",
    "version": 3
   },
   "file_extension": ".py",
   "mimetype": "text/x-python",
   "name": "python",
   "nbconvert_exporter": "python",
   "pygments_lexer": "ipython3",
   "version": "3.7.5"
  }
 },
 "nbformat": 4,
 "nbformat_minor": 4
}
